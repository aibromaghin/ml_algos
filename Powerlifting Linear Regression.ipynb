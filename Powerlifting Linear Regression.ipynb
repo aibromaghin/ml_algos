{
 "cells": [
  {
   "cell_type": "code",
   "execution_count": 40,
   "id": "8d41de3c",
   "metadata": {},
   "outputs": [],
   "source": [
    "import pandas as pd\n",
    "import warnings\n",
    "warnings.simplefilter('ignore')"
   ]
  },
  {
   "cell_type": "code",
   "execution_count": 3,
   "id": "237ec329",
   "metadata": {},
   "outputs": [],
   "source": [
    "df = pd.read_csv('powerlifting.csv')"
   ]
  },
  {
   "cell_type": "code",
   "execution_count": 4,
   "id": "7867d554",
   "metadata": {},
   "outputs": [
    {
     "data": {
      "text/html": [
       "<div>\n",
       "<style scoped>\n",
       "    .dataframe tbody tr th:only-of-type {\n",
       "        vertical-align: middle;\n",
       "    }\n",
       "\n",
       "    .dataframe tbody tr th {\n",
       "        vertical-align: top;\n",
       "    }\n",
       "\n",
       "    .dataframe thead th {\n",
       "        text-align: right;\n",
       "    }\n",
       "</style>\n",
       "<table border=\"1\" class=\"dataframe\">\n",
       "  <thead>\n",
       "    <tr style=\"text-align: right;\">\n",
       "      <th></th>\n",
       "      <th>MeetID</th>\n",
       "      <th>Name</th>\n",
       "      <th>Sex</th>\n",
       "      <th>Equipment</th>\n",
       "      <th>Age</th>\n",
       "      <th>Division</th>\n",
       "      <th>BodyweightKg</th>\n",
       "      <th>WeightClassKg</th>\n",
       "      <th>Squat4Kg</th>\n",
       "      <th>BestSquatKg</th>\n",
       "      <th>Bench4Kg</th>\n",
       "      <th>BestBenchKg</th>\n",
       "      <th>Deadlift4Kg</th>\n",
       "      <th>BestDeadliftKg</th>\n",
       "      <th>TotalKg</th>\n",
       "      <th>Place</th>\n",
       "      <th>Wilks</th>\n",
       "    </tr>\n",
       "  </thead>\n",
       "  <tbody>\n",
       "    <tr>\n",
       "      <th>0</th>\n",
       "      <td>0</td>\n",
       "      <td>Angie Belk Terry</td>\n",
       "      <td>F</td>\n",
       "      <td>Wraps</td>\n",
       "      <td>47.0</td>\n",
       "      <td>Mst 45-49</td>\n",
       "      <td>59.60</td>\n",
       "      <td>60</td>\n",
       "      <td>NaN</td>\n",
       "      <td>47.63</td>\n",
       "      <td>NaN</td>\n",
       "      <td>20.41</td>\n",
       "      <td>NaN</td>\n",
       "      <td>70.31</td>\n",
       "      <td>138.35</td>\n",
       "      <td>1</td>\n",
       "      <td>155.05</td>\n",
       "    </tr>\n",
       "    <tr>\n",
       "      <th>1</th>\n",
       "      <td>0</td>\n",
       "      <td>Dawn Bogart</td>\n",
       "      <td>F</td>\n",
       "      <td>Single-ply</td>\n",
       "      <td>42.0</td>\n",
       "      <td>Mst 40-44</td>\n",
       "      <td>58.51</td>\n",
       "      <td>60</td>\n",
       "      <td>NaN</td>\n",
       "      <td>142.88</td>\n",
       "      <td>NaN</td>\n",
       "      <td>95.25</td>\n",
       "      <td>NaN</td>\n",
       "      <td>163.29</td>\n",
       "      <td>401.42</td>\n",
       "      <td>1</td>\n",
       "      <td>456.38</td>\n",
       "    </tr>\n",
       "    <tr>\n",
       "      <th>2</th>\n",
       "      <td>0</td>\n",
       "      <td>Dawn Bogart</td>\n",
       "      <td>F</td>\n",
       "      <td>Single-ply</td>\n",
       "      <td>42.0</td>\n",
       "      <td>Open Senior</td>\n",
       "      <td>58.51</td>\n",
       "      <td>60</td>\n",
       "      <td>NaN</td>\n",
       "      <td>142.88</td>\n",
       "      <td>NaN</td>\n",
       "      <td>95.25</td>\n",
       "      <td>NaN</td>\n",
       "      <td>163.29</td>\n",
       "      <td>401.42</td>\n",
       "      <td>1</td>\n",
       "      <td>456.38</td>\n",
       "    </tr>\n",
       "    <tr>\n",
       "      <th>3</th>\n",
       "      <td>0</td>\n",
       "      <td>Dawn Bogart</td>\n",
       "      <td>F</td>\n",
       "      <td>Raw</td>\n",
       "      <td>42.0</td>\n",
       "      <td>Open Senior</td>\n",
       "      <td>58.51</td>\n",
       "      <td>60</td>\n",
       "      <td>NaN</td>\n",
       "      <td>NaN</td>\n",
       "      <td>NaN</td>\n",
       "      <td>95.25</td>\n",
       "      <td>NaN</td>\n",
       "      <td>NaN</td>\n",
       "      <td>95.25</td>\n",
       "      <td>1</td>\n",
       "      <td>108.29</td>\n",
       "    </tr>\n",
       "    <tr>\n",
       "      <th>4</th>\n",
       "      <td>0</td>\n",
       "      <td>Destiny Dula</td>\n",
       "      <td>F</td>\n",
       "      <td>Raw</td>\n",
       "      <td>18.0</td>\n",
       "      <td>Teen 18-19</td>\n",
       "      <td>63.68</td>\n",
       "      <td>67.5</td>\n",
       "      <td>NaN</td>\n",
       "      <td>NaN</td>\n",
       "      <td>NaN</td>\n",
       "      <td>31.75</td>\n",
       "      <td>NaN</td>\n",
       "      <td>90.72</td>\n",
       "      <td>122.47</td>\n",
       "      <td>1</td>\n",
       "      <td>130.47</td>\n",
       "    </tr>\n",
       "  </tbody>\n",
       "</table>\n",
       "</div>"
      ],
      "text/plain": [
       "   MeetID              Name Sex   Equipment   Age     Division  BodyweightKg  \\\n",
       "0       0  Angie Belk Terry   F       Wraps  47.0    Mst 45-49         59.60   \n",
       "1       0       Dawn Bogart   F  Single-ply  42.0    Mst 40-44         58.51   \n",
       "2       0       Dawn Bogart   F  Single-ply  42.0  Open Senior         58.51   \n",
       "3       0       Dawn Bogart   F         Raw  42.0  Open Senior         58.51   \n",
       "4       0      Destiny Dula   F         Raw  18.0   Teen 18-19         63.68   \n",
       "\n",
       "  WeightClassKg  Squat4Kg  BestSquatKg  Bench4Kg  BestBenchKg  Deadlift4Kg  \\\n",
       "0            60       NaN        47.63       NaN        20.41          NaN   \n",
       "1            60       NaN       142.88       NaN        95.25          NaN   \n",
       "2            60       NaN       142.88       NaN        95.25          NaN   \n",
       "3            60       NaN          NaN       NaN        95.25          NaN   \n",
       "4          67.5       NaN          NaN       NaN        31.75          NaN   \n",
       "\n",
       "   BestDeadliftKg  TotalKg Place   Wilks  \n",
       "0           70.31   138.35     1  155.05  \n",
       "1          163.29   401.42     1  456.38  \n",
       "2          163.29   401.42     1  456.38  \n",
       "3             NaN    95.25     1  108.29  \n",
       "4           90.72   122.47     1  130.47  "
      ]
     },
     "execution_count": 4,
     "metadata": {},
     "output_type": "execute_result"
    }
   ],
   "source": [
    "df.head()"
   ]
  },
  {
   "cell_type": "code",
   "execution_count": 5,
   "id": "a69a55f0",
   "metadata": {},
   "outputs": [
    {
     "name": "stdout",
     "output_type": "stream",
     "text": [
      "<class 'pandas.core.frame.DataFrame'>\n",
      "RangeIndex: 386414 entries, 0 to 386413\n",
      "Data columns (total 17 columns):\n",
      " #   Column          Non-Null Count   Dtype  \n",
      "---  ------          --------------   -----  \n",
      " 0   meetid          386414 non-null  int64  \n",
      " 1   name            386414 non-null  object \n",
      " 2   sex             386414 non-null  object \n",
      " 3   equipment       386414 non-null  object \n",
      " 4   age             147147 non-null  float64\n",
      " 5   division        370571 non-null  object \n",
      " 6   bodyweightkg    384012 non-null  float64\n",
      " 7   weightclasskg   382602 non-null  object \n",
      " 8   squat4kg        1243 non-null    float64\n",
      " 9   bestsquatkg     298071 non-null  float64\n",
      " 10  bench4kg        1962 non-null    float64\n",
      " 11  bestbenchkg     356364 non-null  float64\n",
      " 12  deadlift4kg     2800 non-null    float64\n",
      " 13  bestdeadliftkg  317847 non-null  float64\n",
      " 14  totalkg         363237 non-null  float64\n",
      " 15  place           385322 non-null  object \n",
      " 16  wilks           362194 non-null  float64\n",
      "dtypes: float64(10), int64(1), object(6)\n",
      "memory usage: 50.1+ MB\n"
     ]
    }
   ],
   "source": [
    "# convert column names to lowercase \n",
    "df.columns = [col.lower() for col in df.columns]\n",
    "# take initial look for missing values, dtypes\n",
    "df.info()"
   ]
  },
  {
   "cell_type": "code",
   "execution_count": 6,
   "id": "09a27b97",
   "metadata": {},
   "outputs": [
    {
     "data": {
      "text/html": [
       "<div>\n",
       "<style scoped>\n",
       "    .dataframe tbody tr th:only-of-type {\n",
       "        vertical-align: middle;\n",
       "    }\n",
       "\n",
       "    .dataframe tbody tr th {\n",
       "        vertical-align: top;\n",
       "    }\n",
       "\n",
       "    .dataframe thead th {\n",
       "        text-align: right;\n",
       "    }\n",
       "</style>\n",
       "<table border=\"1\" class=\"dataframe\">\n",
       "  <thead>\n",
       "    <tr style=\"text-align: right;\">\n",
       "      <th></th>\n",
       "      <th>meetid</th>\n",
       "      <th>name</th>\n",
       "      <th>sex</th>\n",
       "      <th>equipment</th>\n",
       "      <th>age</th>\n",
       "      <th>division</th>\n",
       "      <th>bodyweightkg</th>\n",
       "      <th>weightclasskg</th>\n",
       "      <th>squat4kg</th>\n",
       "      <th>bestsquatkg</th>\n",
       "      <th>bench4kg</th>\n",
       "      <th>bestbenchkg</th>\n",
       "      <th>deadlift4kg</th>\n",
       "      <th>bestdeadliftkg</th>\n",
       "      <th>totalkg</th>\n",
       "      <th>place</th>\n",
       "      <th>wilks</th>\n",
       "    </tr>\n",
       "  </thead>\n",
       "  <tbody>\n",
       "    <tr>\n",
       "      <th>23</th>\n",
       "      <td>0</td>\n",
       "      <td>Kevin Gingerich</td>\n",
       "      <td>M</td>\n",
       "      <td>Raw</td>\n",
       "      <td>32.0</td>\n",
       "      <td>Open Junior</td>\n",
       "      <td>71.94</td>\n",
       "      <td>75</td>\n",
       "      <td>NaN</td>\n",
       "      <td>154.22</td>\n",
       "      <td>NaN</td>\n",
       "      <td>115.67</td>\n",
       "      <td>NaN</td>\n",
       "      <td>183.70</td>\n",
       "      <td>453.59</td>\n",
       "      <td>2</td>\n",
       "      <td>333.01</td>\n",
       "    </tr>\n",
       "    <tr>\n",
       "      <th>24</th>\n",
       "      <td>0</td>\n",
       "      <td>Juan Bollo</td>\n",
       "      <td>M</td>\n",
       "      <td>Raw</td>\n",
       "      <td>20.0</td>\n",
       "      <td>Open Junior</td>\n",
       "      <td>70.67</td>\n",
       "      <td>75</td>\n",
       "      <td>NaN</td>\n",
       "      <td>163.29</td>\n",
       "      <td>NaN</td>\n",
       "      <td>111.13</td>\n",
       "      <td>NaN</td>\n",
       "      <td>204.12</td>\n",
       "      <td>478.54</td>\n",
       "      <td>1</td>\n",
       "      <td>356.03</td>\n",
       "    </tr>\n",
       "    <tr>\n",
       "      <th>26</th>\n",
       "      <td>0</td>\n",
       "      <td>James McManus</td>\n",
       "      <td>M</td>\n",
       "      <td>Raw</td>\n",
       "      <td>36.0</td>\n",
       "      <td>Open Junior</td>\n",
       "      <td>74.93</td>\n",
       "      <td>75</td>\n",
       "      <td>NaN</td>\n",
       "      <td>NaN</td>\n",
       "      <td>NaN</td>\n",
       "      <td>115.67</td>\n",
       "      <td>NaN</td>\n",
       "      <td>156.49</td>\n",
       "      <td>272.16</td>\n",
       "      <td>1</td>\n",
       "      <td>194.06</td>\n",
       "    </tr>\n",
       "    <tr>\n",
       "      <th>28</th>\n",
       "      <td>0</td>\n",
       "      <td>Justin Monk</td>\n",
       "      <td>M</td>\n",
       "      <td>Raw</td>\n",
       "      <td>22.0</td>\n",
       "      <td>Open Junior</td>\n",
       "      <td>79.65</td>\n",
       "      <td>82.5</td>\n",
       "      <td>NaN</td>\n",
       "      <td>161.03</td>\n",
       "      <td>NaN</td>\n",
       "      <td>127.01</td>\n",
       "      <td>NaN</td>\n",
       "      <td>197.31</td>\n",
       "      <td>485.35</td>\n",
       "      <td>2</td>\n",
       "      <td>332.27</td>\n",
       "    </tr>\n",
       "    <tr>\n",
       "      <th>29</th>\n",
       "      <td>0</td>\n",
       "      <td>Kevin Londe</td>\n",
       "      <td>M</td>\n",
       "      <td>Raw</td>\n",
       "      <td>23.0</td>\n",
       "      <td>Open Junior</td>\n",
       "      <td>80.10</td>\n",
       "      <td>82.5</td>\n",
       "      <td>NaN</td>\n",
       "      <td>190.51</td>\n",
       "      <td>NaN</td>\n",
       "      <td>120.20</td>\n",
       "      <td>NaN</td>\n",
       "      <td>231.33</td>\n",
       "      <td>542.04</td>\n",
       "      <td>1</td>\n",
       "      <td>369.76</td>\n",
       "    </tr>\n",
       "  </tbody>\n",
       "</table>\n",
       "</div>"
      ],
      "text/plain": [
       "    meetid             name sex equipment   age     division  bodyweightkg  \\\n",
       "23       0  Kevin Gingerich   M       Raw  32.0  Open Junior         71.94   \n",
       "24       0       Juan Bollo   M       Raw  20.0  Open Junior         70.67   \n",
       "26       0    James McManus   M       Raw  36.0  Open Junior         74.93   \n",
       "28       0      Justin Monk   M       Raw  22.0  Open Junior         79.65   \n",
       "29       0      Kevin Londe   M       Raw  23.0  Open Junior         80.10   \n",
       "\n",
       "   weightclasskg  squat4kg  bestsquatkg  bench4kg  bestbenchkg  deadlift4kg  \\\n",
       "23            75       NaN       154.22       NaN       115.67          NaN   \n",
       "24            75       NaN       163.29       NaN       111.13          NaN   \n",
       "26            75       NaN          NaN       NaN       115.67          NaN   \n",
       "28          82.5       NaN       161.03       NaN       127.01          NaN   \n",
       "29          82.5       NaN       190.51       NaN       120.20          NaN   \n",
       "\n",
       "    bestdeadliftkg  totalkg place   wilks  \n",
       "23          183.70   453.59     2  333.01  \n",
       "24          204.12   478.54     1  356.03  \n",
       "26          156.49   272.16     1  194.06  \n",
       "28          197.31   485.35     2  332.27  \n",
       "29          231.33   542.04     1  369.76  "
      ]
     },
     "execution_count": 6,
     "metadata": {},
     "output_type": "execute_result"
    }
   ],
   "source": [
    "# for this analysis we'll only be looking at unequipped male lifters\n",
    "raw = df.loc[df['equipment']=='Raw']\n",
    "raw_m = raw.loc[df['sex']=='M']\n",
    "\n",
    "raw_m.head()"
   ]
  },
  {
   "cell_type": "code",
   "execution_count": 7,
   "id": "9e3de7fa",
   "metadata": {},
   "outputs": [
    {
     "name": "stdout",
     "output_type": "stream",
     "text": [
      "<class 'pandas.core.frame.DataFrame'>\n",
      "Int64Index: 128650 entries, 23 to 385652\n",
      "Data columns (total 17 columns):\n",
      " #   Column          Non-Null Count   Dtype  \n",
      "---  ------          --------------   -----  \n",
      " 0   meetid          128650 non-null  int64  \n",
      " 1   name            128650 non-null  object \n",
      " 2   sex             128650 non-null  object \n",
      " 3   equipment       128650 non-null  object \n",
      " 4   age             67546 non-null   float64\n",
      " 5   division        122712 non-null  object \n",
      " 6   bodyweightkg    128433 non-null  float64\n",
      " 7   weightclasskg   128031 non-null  object \n",
      " 8   squat4kg        236 non-null     float64\n",
      " 9   bestsquatkg     90140 non-null   float64\n",
      " 10  bench4kg        809 non-null     float64\n",
      " 11  bestbenchkg     118713 non-null  float64\n",
      " 12  deadlift4kg     838 non-null     float64\n",
      " 13  bestdeadliftkg  104081 non-null  float64\n",
      " 14  totalkg         123934 non-null  float64\n",
      " 15  place           128067 non-null  object \n",
      " 16  wilks           123755 non-null  float64\n",
      "dtypes: float64(10), int64(1), object(6)\n",
      "memory usage: 17.7+ MB\n"
     ]
    }
   ],
   "source": [
    "# take a look at missing values for our refined dataset\n",
    "raw_m.info()"
   ]
  },
  {
   "cell_type": "code",
   "execution_count": 8,
   "id": "71c87790",
   "metadata": {},
   "outputs": [],
   "source": [
    "# drop all rows missing best deadlift data\n",
    "raw_m = raw_m[raw_m['bestdeadliftkg'].notna()]"
   ]
  },
  {
   "cell_type": "code",
   "execution_count": 9,
   "id": "24659e45",
   "metadata": {},
   "outputs": [
    {
     "name": "stderr",
     "output_type": "stream",
     "text": [
      "<ipython-input-9-8ae6d0edc36c>:3: FutureWarning: In a future version of pandas all arguments of DataFrame.drop except for the argument 'labels' will be keyword-only\n",
      "  raw_m = raw_m.drop(drops, 1)\n"
     ]
    }
   ],
   "source": [
    "# drop the columns that aren't adding much information\n",
    "drops = ['meetid', 'name', 'age', 'squat4kg', 'bench4kg', 'deadlift4kg', 'place']\n",
    "raw_m = raw_m.drop(drops, 1)\n",
    "raw_m = raw_m.reset_index()"
   ]
  },
  {
   "cell_type": "code",
   "execution_count": 101,
   "id": "d7ad7064",
   "metadata": {},
   "outputs": [
    {
     "data": {
      "text/html": [
       "<div>\n",
       "<style scoped>\n",
       "    .dataframe tbody tr th:only-of-type {\n",
       "        vertical-align: middle;\n",
       "    }\n",
       "\n",
       "    .dataframe tbody tr th {\n",
       "        vertical-align: top;\n",
       "    }\n",
       "\n",
       "    .dataframe thead th {\n",
       "        text-align: right;\n",
       "    }\n",
       "</style>\n",
       "<table border=\"1\" class=\"dataframe\">\n",
       "  <thead>\n",
       "    <tr style=\"text-align: right;\">\n",
       "      <th></th>\n",
       "      <th>index</th>\n",
       "      <th>sex</th>\n",
       "      <th>equipment</th>\n",
       "      <th>division</th>\n",
       "      <th>bodyweightkg</th>\n",
       "      <th>weightclasskg</th>\n",
       "      <th>bestsquatkg</th>\n",
       "      <th>bestbenchkg</th>\n",
       "      <th>bestdeadliftkg</th>\n",
       "      <th>totalkg</th>\n",
       "      <th>wilks</th>\n",
       "    </tr>\n",
       "  </thead>\n",
       "  <tbody>\n",
       "    <tr>\n",
       "      <th>0</th>\n",
       "      <td>23</td>\n",
       "      <td>M</td>\n",
       "      <td>Raw</td>\n",
       "      <td>Open Junior</td>\n",
       "      <td>71.94</td>\n",
       "      <td>75</td>\n",
       "      <td>154.22</td>\n",
       "      <td>115.67</td>\n",
       "      <td>183.70</td>\n",
       "      <td>453.59</td>\n",
       "      <td>333.01</td>\n",
       "    </tr>\n",
       "    <tr>\n",
       "      <th>1</th>\n",
       "      <td>24</td>\n",
       "      <td>M</td>\n",
       "      <td>Raw</td>\n",
       "      <td>Open Junior</td>\n",
       "      <td>70.67</td>\n",
       "      <td>75</td>\n",
       "      <td>163.29</td>\n",
       "      <td>111.13</td>\n",
       "      <td>204.12</td>\n",
       "      <td>478.54</td>\n",
       "      <td>356.03</td>\n",
       "    </tr>\n",
       "    <tr>\n",
       "      <th>2</th>\n",
       "      <td>26</td>\n",
       "      <td>M</td>\n",
       "      <td>Raw</td>\n",
       "      <td>Open Junior</td>\n",
       "      <td>74.93</td>\n",
       "      <td>75</td>\n",
       "      <td>NaN</td>\n",
       "      <td>115.67</td>\n",
       "      <td>156.49</td>\n",
       "      <td>272.16</td>\n",
       "      <td>194.06</td>\n",
       "    </tr>\n",
       "    <tr>\n",
       "      <th>3</th>\n",
       "      <td>28</td>\n",
       "      <td>M</td>\n",
       "      <td>Raw</td>\n",
       "      <td>Open Junior</td>\n",
       "      <td>79.65</td>\n",
       "      <td>82.5</td>\n",
       "      <td>161.03</td>\n",
       "      <td>127.01</td>\n",
       "      <td>197.31</td>\n",
       "      <td>485.35</td>\n",
       "      <td>332.27</td>\n",
       "    </tr>\n",
       "    <tr>\n",
       "      <th>4</th>\n",
       "      <td>29</td>\n",
       "      <td>M</td>\n",
       "      <td>Raw</td>\n",
       "      <td>Open Junior</td>\n",
       "      <td>80.10</td>\n",
       "      <td>82.5</td>\n",
       "      <td>190.51</td>\n",
       "      <td>120.20</td>\n",
       "      <td>231.33</td>\n",
       "      <td>542.04</td>\n",
       "      <td>369.76</td>\n",
       "    </tr>\n",
       "  </tbody>\n",
       "</table>\n",
       "</div>"
      ],
      "text/plain": [
       "   index sex equipment     division  bodyweightkg weightclasskg  bestsquatkg  \\\n",
       "0     23   M       Raw  Open Junior         71.94            75       154.22   \n",
       "1     24   M       Raw  Open Junior         70.67            75       163.29   \n",
       "2     26   M       Raw  Open Junior         74.93            75          NaN   \n",
       "3     28   M       Raw  Open Junior         79.65          82.5       161.03   \n",
       "4     29   M       Raw  Open Junior         80.10          82.5       190.51   \n",
       "\n",
       "   bestbenchkg  bestdeadliftkg  totalkg   wilks  \n",
       "0       115.67          183.70   453.59  333.01  \n",
       "1       111.13          204.12   478.54  356.03  \n",
       "2       115.67          156.49   272.16  194.06  \n",
       "3       127.01          197.31   485.35  332.27  \n",
       "4       120.20          231.33   542.04  369.76  "
      ]
     },
     "execution_count": 101,
     "metadata": {},
     "output_type": "execute_result"
    }
   ],
   "source": [
    "raw_m.head()"
   ]
  },
  {
   "cell_type": "code",
   "execution_count": 10,
   "id": "40006d78",
   "metadata": {},
   "outputs": [],
   "source": [
    "import seaborn as sns\n",
    "import matplotlib.pyplot as plt\n",
    "%matplotlib inline"
   ]
  },
  {
   "cell_type": "code",
   "execution_count": 15,
   "id": "7a1eca4f",
   "metadata": {},
   "outputs": [
    {
     "data": {
      "text/plain": [
       "<AxesSubplot:xlabel='bodyweightkg', ylabel='totalkg'>"
      ]
     },
     "execution_count": 15,
     "metadata": {},
     "output_type": "execute_result"
    },
    {
     "data": {
      "image/png": "[encoded data removed]",
      "text/plain": [
       "<Figure size 432x288 with 1 Axes>"
      ]
     },
     "metadata": {
      "needs_background": "light"
     },
     "output_type": "display_data"
    }
   ],
   "source": [
    "sns.regplot(data=raw_m, x='bodyweightkg', y='totalkg')"
   ]
  },
  {
   "cell_type": "code",
   "execution_count": 17,
   "id": "2ef2c405",
   "metadata": {},
   "outputs": [
    {
     "data": {
      "text/plain": [
       "<AxesSubplot:xlabel='bestdeadliftkg', ylabel='totalkg'>"
      ]
     },
     "execution_count": 17,
     "metadata": {},
     "output_type": "execute_result"
    },
    {
     "data": {
      "image/png": "[encoded data removed]",
      "text/plain": [
       "<Figure size 432x288 with 1 Axes>"
      ]
     },
     "metadata": {
      "needs_background": "light"
     },
     "output_type": "display_data"
    }
   ],
   "source": [
    "sns.regplot(data=raw_m, x='bestdeadliftkg', y='totalkg')"
   ]
  },
  {
   "cell_type": "code",
   "execution_count": 18,
   "id": "ef3a3b04",
   "metadata": {},
   "outputs": [
    {
     "data": {
      "text/plain": [
       "<AxesSubplot:xlabel='totalkg', ylabel='Count'>"
      ]
     },
     "execution_count": 18,
     "metadata": {},
     "output_type": "execute_result"
    },
    {
     "data": {
      "image/png": "[encoded data removed]",
      "text/plain": [
       "<Figure size 432x288 with 1 Axes>"
      ]
     },
     "metadata": {
      "needs_background": "light"
     },
     "output_type": "display_data"
    }
   ],
   "source": [
    "# quick check of distribution for target variable\n",
    "sns.histplot(raw_m, x='totalkg')"
   ]
  },
  {
   "cell_type": "code",
   "execution_count": 19,
   "id": "ec282092",
   "metadata": {},
   "outputs": [],
   "source": [
    "# import linear regression dependencies\n",
    "import numpy as np\n",
    "from sklearn.linear_model import LinearRegression\n",
    "from sklearn.model_selection import train_test_split\n",
    "from sklearn.metrics import r2_score"
   ]
  },
  {
   "cell_type": "code",
   "execution_count": 20,
   "id": "224a01c4",
   "metadata": {},
   "outputs": [
    {
     "name": "stdout",
     "output_type": "stream",
     "text": [
      "<class 'pandas.core.frame.DataFrame'>\n",
      "Int64Index: 101963 entries, 0 to 104080\n",
      "Data columns (total 3 columns):\n",
      " #   Column          Non-Null Count   Dtype  \n",
      "---  ------          --------------   -----  \n",
      " 0   bodyweightkg    101963 non-null  float64\n",
      " 1   bestdeadliftkg  101963 non-null  float64\n",
      " 2   totalkg         101963 non-null  float64\n",
      "dtypes: float64(3)\n",
      "memory usage: 3.1 MB\n"
     ]
    }
   ],
   "source": [
    "# isolate predictor variables we're interested in\n",
    "df = raw_m[['bodyweightkg', 'bestdeadliftkg', 'totalkg']]\n",
    "df = df.dropna()\n",
    "df.info()"
   ]
  },
  {
   "cell_type": "code",
   "execution_count": 24,
   "id": "2d2544b3",
   "metadata": {},
   "outputs": [
    {
     "data": {
      "text/plain": [
       "0.5009058262128401"
      ]
     },
     "execution_count": 24,
     "metadata": {},
     "output_type": "execute_result"
    }
   ],
   "source": [
    "# separate dependent and independent variables\n",
    "x = df[['bodyweightkg', 'bestdeadliftkg']]\n",
    "y = df['totalkg']\n",
    "\n",
    "# split into train and test data\n",
    "x_train, x_test, y_train, y_test = train_test_split(x, y, test_size=.2, random_state=42)\n",
    "\n",
    "# initialize model\n",
    "linear = LinearRegression()\n",
    "linear.fit(x_train, y_train)\n",
    "\n",
    "# get predictions\n",
    "y_pred = linear.predict(x_test)\n",
    "\n",
    "# predicting the accuracy score\n",
    "score = r2_score(y_test,y_pred)\n",
    "score"
   ]
  },
  {
   "cell_type": "code",
   "execution_count": 25,
   "id": "c1a1d974",
   "metadata": {},
   "outputs": [
    {
     "data": {
      "text/plain": [
       "0.1444383749687067"
      ]
     },
     "execution_count": 25,
     "metadata": {},
     "output_type": "execute_result"
    }
   ],
   "source": [
    "# run linear regression with bodyweight as sole predictor\n",
    "x = df['bodyweightkg']\n",
    "y = df['totalkg']\n",
    "x = np.array(x).reshape(-1, 1)\n",
    "y = np.array(y).reshape(-1, 1)\n",
    "\n",
    "x_train, x_test, y_train, y_test = train_test_split(x, y, test_size=.2, random_state=42)\n",
    "\n",
    "linear = LinearRegression()\n",
    "linear.fit(x_train, y_train)\n",
    "\n",
    "y_pred = linear.predict(x_test)\n",
    "score = r2_score(y_test, y_pred)\n",
    "score"
   ]
  },
  {
   "cell_type": "code",
   "execution_count": 27,
   "id": "dda05695",
   "metadata": {},
   "outputs": [
    {
     "data": {
      "text/plain": [
       "0.4994174842449608"
      ]
     },
     "execution_count": 27,
     "metadata": {},
     "output_type": "execute_result"
    }
   ],
   "source": [
    "# run linear regression with best deadlift as sole predictor\n",
    "x = df['bestdeadliftkg']\n",
    "y = df['totalkg']\n",
    "x = np.array(x).reshape(-1, 1)\n",
    "y = np.array(y).reshape(-1, 1)\n",
    "\n",
    "x_train, x_test, y_train, y_test = train_test_split(x, y, test_size=.2, random_state=42)\n",
    "\n",
    "linear = LinearRegression()\n",
    "linear.fit(x_train, y_train)\n",
    "\n",
    "y_pred = linear.predict(x_test)\n",
    "score = r2_score(y_test, y_pred)\n",
    "score"
   ]
  },
  {
   "cell_type": "code",
   "execution_count": 41,
   "id": "4f47c511",
   "metadata": {},
   "outputs": [
    {
     "data": {
      "text/plain": [
       "array([378.8309521])"
      ]
     },
     "execution_count": 41,
     "metadata": {},
     "output_type": "execute_result"
    }
   ],
   "source": [
    "# separate dependent and independent variables\n",
    "x = df[['bodyweightkg', 'bestdeadliftkg']]\n",
    "y = df['totalkg']\n",
    "\n",
    "# split into train and test data\n",
    "x_train, x_test, y_train, y_test = train_test_split(x, y, test_size=.2, random_state=42)\n",
    "\n",
    "# initialize model\n",
    "linear = LinearRegression()\n",
    "linear.fit(x_train, y_train)\n",
    "\n",
    "pred = np.array([70.3, 165.56]).reshape(1, -1)\n",
    "linear.predict(pred)"
   ]
  }
 ],
 "metadata": {
  "kernelspec": {
   "display_name": "Python 3",
   "language": "python",
   "name": "python3"
  },
  "language_info": {
   "codemirror_mode": {
    "name": "ipython",
    "version": 3
   },
   "file_extension": ".py",
   "mimetype": "text/x-python",
   "name": "python",
   "nbconvert_exporter": "python",
   "pygments_lexer": "ipython3",
   "version": "3.9.6"
  }
 },
 "nbformat": 4,
 "nbformat_minor": 5
}
